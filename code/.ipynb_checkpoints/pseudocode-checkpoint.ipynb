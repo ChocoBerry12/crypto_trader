{
 "cells": [
  {
   "cell_type": "code",
   "execution_count": 35,
   "metadata": {},
   "outputs": [],
   "source": [
    "managing_balance = {} # 거래소마다 현재 보유하고 있는 현금 및 코인 총 잔고\n",
    "arbitrage_ledger = [] # 임시 장부. \n",
    "history_portfolio = [] # 차익거래 내역.\n",
    "\n",
    "def main():\n",
    "    while(True):\n",
    "        for coin in coins:\n",
    "            for exc_1 in exchanges:\n",
    "                if( (coin, exc_1) in arbitrage_ledger ): # 임시장부에 기록되어있는 거래는 더 이상 들어가지 않는다.\n",
    "                    continue\n",
    "                for exc_2 in exchanges:\n",
    "                    if( (coin, exc_2) in arbitrage_ledger ):\n",
    "                        continue\n",
    "                if( price_sub(exc_1, exc_2) < e): # 두 거래소의 가격차이가 일정값 이하면 장부를 업데이트한다.\n",
    "                    add_ledger(coin, exc_1, exc_2, amount)\n",
    "\n",
    "        for ledger in arbitrage_ledger: # 장부에 기록되어있는 거래를 살피며 프리미엄이 형성되어있는지 검사하여 거래를 수행한다.\n",
    "            if( ledger.is_premium() ):\n",
    "                arbitrage_trade(ledger)\n",
    "\n",
    "# 거래소 한곳에 코인을 매수하고 장부에 정보를 추가하고 잔고를 업데이트 한다.\n",
    "def add_ledger(coin, exc_1, exc_2, amount):\n",
    "    buy(coin, exc_1, amount)\n",
    "    ledger = (coin, exc_1, exc_2, amount)\n",
    "    arbitrage_ledger.append(ledger)\n",
    "    update_balance()\n",
    "\n",
    "# 장부에 기록되어있는 거래에 대해 매수와 매도를 동시에 진행한다.\n",
    "# 그리고 장부를 삭제하고 잔고와 내역을 업데이트 한다.\n",
    "def arbitrage_trade(ledger):\n",
    "    sell(ledger.coin, ledger.quote, ledger.amount)\n",
    "    buy(ledger.coin, ledger.base, ledger.amount)\n",
    "    update_balance()\n",
    "    arbitrage_ledger.remove(ledger)\n",
    "    history_portfollio.append(ledger)\n"
   ]
  }
 ],
 "metadata": {
  "kernelspec": {
   "display_name": "Python 3",
   "language": "python",
   "name": "python3"
  },
  "language_info": {
   "codemirror_mode": {
    "name": "ipython",
    "version": 3
   },
   "file_extension": ".py",
   "mimetype": "text/x-python",
   "name": "python",
   "nbconvert_exporter": "python",
   "pygments_lexer": "ipython3",
   "version": "3.6.8"
  }
 },
 "nbformat": 4,
 "nbformat_minor": 4
}
