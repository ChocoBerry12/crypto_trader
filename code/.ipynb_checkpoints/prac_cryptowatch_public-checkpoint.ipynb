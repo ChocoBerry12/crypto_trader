{
 "cells": [
  {
   "cell_type": "markdown",
   "metadata": {},
   "source": [
    "## id 종류\n",
    "cur 60 btc\n",
    "ex 1 bitfinex\n",
    "pair 282 polo,btc-usdt\n",
    "* 모든 화폐 및 코인 리스트\n",
    "`{\"id\":60,\"symbol\":\"btc\",\"name\":\"Bitcoin\",\"fiat\":false,\"route\":\"https://api.cryptowat.ch/assets/btc\"}`\n",
    "* 모든 거래소 리스트\n",
    "`{\"id\":3,\"symbol\":\"bitstamp\",\"name\":\"Bitstamp\",\"route\":\"https://api.cryptowat.ch/exchanges/bitstamp\",\"active\":true}`\n",
    "* 모든 거래소의 모든 통화 pair 리스트\n",
    "`{\"id\":282,\"exchange\":\"poloniex\",\"pair\":\"btcusdt\",\"active\":true,\"route\":\"https://api.cryptowat.ch/markets/poloniex/btcusdt\"}`"
   ]
  },
  {
   "cell_type": "code",
   "execution_count": 1,
   "metadata": {},
   "outputs": [],
   "source": [
    "import requests\n",
    "import time"
   ]
  },
  {
   "cell_type": "code",
   "execution_count": 3,
   "metadata": {
    "collapsed": true,
    "jupyter": {
     "outputs_hidden": true
    }
   },
   "outputs": [
    {
     "data": {
      "text/plain": [
       "{'result': {'revision': 'd8c37c36387402bc02794ccf83060a87834b4ac3',\n",
       "  'uptime': '210h27m46.484998941s',\n",
       "  'documentation': 'https://cryptowat.ch/docs/api',\n",
       "  'indexes': ['https://api.cryptowat.ch/assets',\n",
       "   'https://api.cryptowat.ch/pairs',\n",
       "   'https://api.cryptowat.ch/exchanges',\n",
       "   'https://api.cryptowat.ch/markets']},\n",
       " 'allowance': {'cost': 38704, 'remaining': 7999920300}}"
      ]
     },
     "execution_count": 3,
     "metadata": {},
     "output_type": "execute_result"
    }
   ],
   "source": [
    "# api 사용 제한 - 매 시간 갱신됨, 이 요청은 cost 가 작음\n",
    "# 시간당 80 억, cost 가 100 만 이면 8,000 번 요청가능.\n",
    "response = requests.get('https://api.cryptowat.ch/')\n",
    "response.json()"
   ]
  },
  {
   "cell_type": "code",
   "execution_count": 9,
   "metadata": {},
   "outputs": [
    {
     "name": "stdout",
     "output_type": "stream",
     "text": [
      "{'id': 60, 'symbol': 'btc', 'name': 'Bitcoin', 'fiat': False, 'route': 'https://api.cryptowat.ch/assets/btc'}\n"
     ]
    }
   ],
   "source": [
    "# 모든 코인과 모든 명목화폐(fiat) 리스트\n",
    "# id, symbol, name, fiat\n",
    "# btc 60\n",
    "response = requests.get('https://api.cryptowat.ch/assets')\n",
    "response = response.json()\n",
    "for i in response['result']:\n",
    "    if(i['symbol']=='btc'):\n",
    "        print(i)\n",
    "#response['result']"
   ]
  },
  {
   "cell_type": "code",
   "execution_count": 10,
   "metadata": {},
   "outputs": [],
   "source": [
    "# 특정 코인의 모든 거래소에서의 id\n",
    "# result - base(domestic) - quote(foreign)\n",
    "response = requests.get('https://api.cryptowat.ch/assets/eth')\n",
    "#response.json()['result']"
   ]
  },
  {
   "cell_type": "code",
   "execution_count": 11,
   "metadata": {},
   "outputs": [],
   "source": [
    "# 모든 asset pair - base / quote 쌍\n",
    "# id, symbol, name, fiat\n",
    "response = requests.get('https://api.cryptowat.ch/pairs')\n",
    "#response.json()"
   ]
  },
  {
   "cell_type": "code",
   "execution_count": 36,
   "metadata": {},
   "outputs": [],
   "source": [
    "# 특정 asset pair 상세 정보\n",
    "response = requests.get('https://api.cryptowat.ch/pairs/ethbtc')\n",
    "#response.json()"
   ]
  },
  {
   "cell_type": "code",
   "execution_count": 17,
   "metadata": {},
   "outputs": [],
   "source": [
    "# 지원하는 모든 거래소\n",
    "# id, symbol, name, active\n",
    "response = requests.get('https://api.cryptowat.ch/exchanges')\n",
    "#response.json()"
   ]
  },
  {
   "cell_type": "code",
   "execution_count": 18,
   "metadata": {},
   "outputs": [
    {
     "data": {
      "text/plain": [
       "{'result': {'id': 24,\n",
       "  'symbol': 'bithumb',\n",
       "  'name': 'Bithumb',\n",
       "  'active': True,\n",
       "  'routes': {'markets': 'https://api.cryptowat.ch/markets/bithumb'}},\n",
       " 'allowance': {'cost': 47456, 'remaining': 7883298684}}"
      ]
     },
     "execution_count": 18,
     "metadata": {},
     "output_type": "execute_result"
    }
   ],
   "source": [
    "# 특정 거래소\n",
    "# id, symbol, name, active\n",
    "response = requests.get('https://api.cryptowat.ch/exchanges/bithumb')\n",
    "response.json()"
   ]
  },
  {
   "cell_type": "code",
   "execution_count": null,
   "metadata": {},
   "outputs": [],
   "source": [
    "# 거래소가 지원하는 코인 pair - 3 번째 id 형식 base\n",
    "response = requests.get('https://api.cryptowat.ch/markets')\n",
    "#response.json()"
   ]
  },
  {
   "cell_type": "code",
   "execution_count": 20,
   "metadata": {},
   "outputs": [],
   "source": [
    "# 특정 거래소가 지원하는 코인 pair\n",
    "response = requests.get('https://api.cryptowat.ch/markets/poloniex')\n",
    "#response.json()"
   ]
  },
  {
   "cell_type": "code",
   "execution_count": 32,
   "metadata": {
    "collapsed": true,
    "jupyter": {
     "outputs_hidden": true
    }
   },
   "outputs": [
    {
     "data": {
      "text/plain": [
       "{'result': {'id': 261,\n",
       "  'exchange': 'poloniex',\n",
       "  'pair': 'ethbtc',\n",
       "  'active': True,\n",
       "  'routes': {'price': 'https://api.cryptowat.ch/markets/poloniex/ethbtc/price',\n",
       "   'summary': 'https://api.cryptowat.ch/markets/poloniex/ethbtc/summary',\n",
       "   'orderbook': 'https://api.cryptowat.ch/markets/poloniex/ethbtc/orderbook',\n",
       "   'trades': 'https://api.cryptowat.ch/markets/poloniex/ethbtc/trades',\n",
       "   'ohlc': 'https://api.cryptowat.ch/markets/poloniex/ethbtc/ohlc'}},\n",
       " 'allowance': {'cost': 79459, 'remaining': 7999408134}}"
      ]
     },
     "execution_count": 32,
     "metadata": {},
     "output_type": "execute_result"
    }
   ],
   "source": [
    "# 특정 거래소 특정 코인 상세정보\n",
    "# 거래소, pair(base-quote), active\n",
    "response = requests.get('https://api.cryptowat.ch/markets/poloniex/ethbtc')\n",
    "response.json()"
   ]
  },
  {
   "cell_type": "code",
   "execution_count": 21,
   "metadata": {},
   "outputs": [
    {
     "data": {
      "text/plain": [
       "{'result': {'price': 14204000},\n",
       " 'allowance': {'cost': 301378, 'remaining': 7866507677}}"
      ]
     },
     "execution_count": 21,
     "metadata": {},
     "output_type": "execute_result"
    }
   ],
   "source": [
    "# 특정 거래소에서 특정 코인의 가격\n",
    "# 각 나라의 통화로 표시됨\n",
    "response = requests.get('https://api.cryptowat.ch/markets/coinone/btckrw/price')\n",
    "response.json()"
   ]
  },
  {
   "cell_type": "code",
   "execution_count": 22,
   "metadata": {},
   "outputs": [
    {
     "data": {
      "text/plain": [
       "{'result': {'price': {'last': 11893.78,\n",
       "   'high': 12050,\n",
       "   'low': 11451,\n",
       "   'change': {'percentage': -0.0043763383073582, 'absolute': -52.28}},\n",
       "  'volume': 14513.20908672,\n",
       "  'volumeQuote': 170760392.02017012},\n",
       " 'allowance': {'cost': 4226945, 'remaining': 7862280732}}"
      ]
     },
     "execution_count": 22,
     "metadata": {},
     "output_type": "execute_result"
    }
   ],
   "source": [
    "# 특정 거래소에서 특정 코인의 상세\n",
    "# H, L, 대비%, 대비, V\n",
    "response = requests.get('https://api.cryptowat.ch/markets/coinbase-pro/btcusd/summary')\n",
    "response.json()"
   ]
  },
  {
   "cell_type": "code",
   "execution_count": 23,
   "metadata": {},
   "outputs": [
    {
     "data": {
      "text/plain": [
       "{'result': [[0, 1565326391, 11897.57, 0.06247117],\n",
       "  [0, 1565326391, 11897.51, 0.01019991],\n",
       "  [0, 1565326393, 11893.15, 0.00536444],\n",
       "  [0, 1565326393, 11893.14, 0.00308557],\n",
       "  [0, 1565326394, 11897.93, 0.00196624],\n",
       "  [0, 1565326395, 11893.37, 0.00837621],\n",
       "  [0, 1565326402, 11897.75, 0.0033982],\n",
       "  [0, 1565326402, 11897.75, 0.00481289],\n",
       "  [0, 1565326404, 11893.78, 0.00536415],\n",
       "  [0, 1565326404, 11893.78, 0.00293807]],\n",
       " 'allowance': {'cost': 4236806, 'remaining': 7858043926}}"
      ]
     },
     "execution_count": 23,
     "metadata": {},
     "output_type": "execute_result"
    }
   ],
   "source": [
    "# 특정 거래소에서 특정 코인의 최근 거래내역\n",
    "# [ ID, Timestamp, Price, Amount ]\n",
    "params = {'limit':10, 'since':1}\n",
    "response = requests.get('https://api.cryptowat.ch/markets/coinbase-pro/btcusd/trades', params=params)\n",
    "response.json()"
   ]
  },
  {
   "cell_type": "code",
   "execution_count": 24,
   "metadata": {},
   "outputs": [],
   "source": [
    "# 특정 거래소에서 특정 코인 호가 창\n",
    "# ask/bid - [ Price, Amount ]\n",
    "params = {'limit':10, 'depth':10, 'span':.5}\n",
    "response = requests.get('https://api.cryptowat.ch/markets/coinbase-pro/btcusd/orderbook', params=params)\n",
    "#response.json()"
   ]
  },
  {
   "cell_type": "code",
   "execution_count": 25,
   "metadata": {},
   "outputs": [],
   "source": [
    "# 특정 거래소에서 특정 코인 누적 호가창\n",
    "response = requests.get('https://api.cryptowat.ch/markets/coinbase-pro/btcusd/orderbook/liquidity')\n",
    "#response.json()"
   ]
  },
  {
   "cell_type": "code",
   "execution_count": 26,
   "metadata": {},
   "outputs": [],
   "source": [
    "# 특정 거래소에서 특정 코인 차트 데이터\n",
    "# [ CloseTime, OpenPrice, HighPrice, LowPrice, ClosePrice, Volume ]\n",
    "params = {'after':int(time.time() - 2), 'period':180}\n",
    "response = requests.get('https://api.cryptowat.ch/markets/coinbase-pro/btcusd/ohlc', params=params)\n",
    "#response.json()"
   ]
  },
  {
   "cell_type": "code",
   "execution_count": 27,
   "metadata": {},
   "outputs": [],
   "source": [
    "# 모든 거래소에서 모든 코인 시세 - no id\n",
    "response = requests.get('https://api.cryptowat.ch/markets/prices')\n",
    "#response.json()"
   ]
  },
  {
   "cell_type": "code",
   "execution_count": 28,
   "metadata": {},
   "outputs": [],
   "source": [
    "# 모든 거래소에서 모든 코인 상세 - no id\n",
    "response = requests.get('https://api.cryptowat.ch/markets/summaries')\n",
    "#response.json()"
   ]
  }
 ],
 "metadata": {
  "kernelspec": {
   "display_name": "Python 3",
   "language": "python",
   "name": "python3"
  },
  "language_info": {
   "codemirror_mode": {
    "name": "ipython",
    "version": 3
   },
   "file_extension": ".py",
   "mimetype": "text/x-python",
   "name": "python",
   "nbconvert_exporter": "python",
   "pygments_lexer": "ipython3",
   "version": "3.6.8"
  }
 },
 "nbformat": 4,
 "nbformat_minor": 4
}
