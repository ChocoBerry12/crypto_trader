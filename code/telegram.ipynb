{
 "cells": [
  {
   "cell_type": "code",
   "execution_count": 2,
   "metadata": {},
   "outputs": [
    {
     "ename": "OperationalError",
     "evalue": "database is locked",
     "output_type": "error",
     "traceback": [
      "\u001b[1;31m---------------------------------------------------------------------------\u001b[0m",
      "\u001b[1;31mOperationalError\u001b[0m                          Traceback (most recent call last)",
      "\u001b[1;32m<ipython-input-2-425cdc678680>\u001b[0m in \u001b[0;36m<module>\u001b[1;34m\u001b[0m\n\u001b[0;32m      5\u001b[0m \u001b[0mapi_hash\u001b[0m \u001b[1;33m=\u001b[0m \u001b[1;34m'93745cd420152d8f89a090bada2db7e7'\u001b[0m\u001b[1;33m\u001b[0m\u001b[1;33m\u001b[0m\u001b[0m\n\u001b[0;32m      6\u001b[0m \u001b[1;33m\u001b[0m\u001b[0m\n\u001b[1;32m----> 7\u001b[1;33m \u001b[1;32mwith\u001b[0m \u001b[0mTelegramClient\u001b[0m\u001b[1;33m(\u001b[0m\u001b[1;34m'1'\u001b[0m\u001b[1;33m,\u001b[0m \u001b[0mapi_id\u001b[0m\u001b[1;33m,\u001b[0m \u001b[0mapi_hash\u001b[0m\u001b[1;33m)\u001b[0m \u001b[1;32mas\u001b[0m \u001b[0mclient\u001b[0m\u001b[1;33m:\u001b[0m\u001b[1;33m\u001b[0m\u001b[1;33m\u001b[0m\u001b[0m\n\u001b[0m\u001b[0;32m      8\u001b[0m     \u001b[1;31m# Getting information about yourself\u001b[0m\u001b[1;33m\u001b[0m\u001b[1;33m\u001b[0m\u001b[1;33m\u001b[0m\u001b[0m\n\u001b[0;32m      9\u001b[0m     \u001b[0mme\u001b[0m \u001b[1;33m=\u001b[0m \u001b[0mclient\u001b[0m\u001b[1;33m.\u001b[0m\u001b[0mget_me\u001b[0m\u001b[1;33m(\u001b[0m\u001b[1;33m)\u001b[0m\u001b[1;33m\u001b[0m\u001b[1;33m\u001b[0m\u001b[0m\n",
      "\u001b[1;32mC:\\Anaconda\\lib\\site-packages\\telethon\\client\\telegrambaseclient.py\u001b[0m in \u001b[0;36m__init__\u001b[1;34m(self, session, api_id, api_hash, connection, use_ipv6, proxy, timeout, request_retries, connection_retries, retry_delay, auto_reconnect, sequential_updates, flood_sleep_threshold, device_model, system_version, app_version, lang_code, system_lang_code, loop, base_logger)\u001b[0m\n\u001b[0;32m    234\u001b[0m                 \u001b[0mDEFAULT_DC_ID\u001b[0m\u001b[1;33m,\u001b[0m\u001b[1;33m\u001b[0m\u001b[1;33m\u001b[0m\u001b[0m\n\u001b[0;32m    235\u001b[0m                 \u001b[0mDEFAULT_IPV6_IP\u001b[0m \u001b[1;32mif\u001b[0m \u001b[0mself\u001b[0m\u001b[1;33m.\u001b[0m\u001b[0m_use_ipv6\u001b[0m \u001b[1;32melse\u001b[0m \u001b[0mDEFAULT_IPV4_IP\u001b[0m\u001b[1;33m,\u001b[0m\u001b[1;33m\u001b[0m\u001b[1;33m\u001b[0m\u001b[0m\n\u001b[1;32m--> 236\u001b[1;33m                 \u001b[0mDEFAULT_PORT\u001b[0m\u001b[1;33m\u001b[0m\u001b[1;33m\u001b[0m\u001b[0m\n\u001b[0m\u001b[0;32m    237\u001b[0m             )\n\u001b[0;32m    238\u001b[0m \u001b[1;33m\u001b[0m\u001b[0m\n",
      "\u001b[1;32mC:\\Anaconda\\lib\\site-packages\\telethon\\sessions\\sqlite.py\u001b[0m in \u001b[0;36mset_dc\u001b[1;34m(self, dc_id, server_address, port)\u001b[0m\n\u001b[0;32m    155\u001b[0m     \u001b[1;32mdef\u001b[0m \u001b[0mset_dc\u001b[0m\u001b[1;33m(\u001b[0m\u001b[0mself\u001b[0m\u001b[1;33m,\u001b[0m \u001b[0mdc_id\u001b[0m\u001b[1;33m,\u001b[0m \u001b[0mserver_address\u001b[0m\u001b[1;33m,\u001b[0m \u001b[0mport\u001b[0m\u001b[1;33m)\u001b[0m\u001b[1;33m:\u001b[0m\u001b[1;33m\u001b[0m\u001b[1;33m\u001b[0m\u001b[0m\n\u001b[0;32m    156\u001b[0m         \u001b[0msuper\u001b[0m\u001b[1;33m(\u001b[0m\u001b[1;33m)\u001b[0m\u001b[1;33m.\u001b[0m\u001b[0mset_dc\u001b[0m\u001b[1;33m(\u001b[0m\u001b[0mdc_id\u001b[0m\u001b[1;33m,\u001b[0m \u001b[0mserver_address\u001b[0m\u001b[1;33m,\u001b[0m \u001b[0mport\u001b[0m\u001b[1;33m)\u001b[0m\u001b[1;33m\u001b[0m\u001b[1;33m\u001b[0m\u001b[0m\n\u001b[1;32m--> 157\u001b[1;33m         \u001b[0mself\u001b[0m\u001b[1;33m.\u001b[0m\u001b[0m_update_session_table\u001b[0m\u001b[1;33m(\u001b[0m\u001b[1;33m)\u001b[0m\u001b[1;33m\u001b[0m\u001b[1;33m\u001b[0m\u001b[0m\n\u001b[0m\u001b[0;32m    158\u001b[0m \u001b[1;33m\u001b[0m\u001b[0m\n\u001b[0;32m    159\u001b[0m         \u001b[1;31m# Fetch the auth_key corresponding to this data center\u001b[0m\u001b[1;33m\u001b[0m\u001b[1;33m\u001b[0m\u001b[1;33m\u001b[0m\u001b[0m\n",
      "\u001b[1;32mC:\\Anaconda\\lib\\site-packages\\telethon\\sessions\\sqlite.py\u001b[0m in \u001b[0;36m_update_session_table\u001b[1;34m(self)\u001b[0m\n\u001b[0;32m    181\u001b[0m         \u001b[1;31m# some more work before being able to save auth_key's for\u001b[0m\u001b[1;33m\u001b[0m\u001b[1;33m\u001b[0m\u001b[1;33m\u001b[0m\u001b[0m\n\u001b[0;32m    182\u001b[0m         \u001b[1;31m# multiple DCs. Probably done differently.\u001b[0m\u001b[1;33m\u001b[0m\u001b[1;33m\u001b[0m\u001b[1;33m\u001b[0m\u001b[0m\n\u001b[1;32m--> 183\u001b[1;33m         \u001b[0mc\u001b[0m\u001b[1;33m.\u001b[0m\u001b[0mexecute\u001b[0m\u001b[1;33m(\u001b[0m\u001b[1;34m'delete from sessions'\u001b[0m\u001b[1;33m)\u001b[0m\u001b[1;33m\u001b[0m\u001b[1;33m\u001b[0m\u001b[0m\n\u001b[0m\u001b[0;32m    184\u001b[0m         c.execute('insert or replace into sessions values (?,?,?,?,?)', (\n\u001b[0;32m    185\u001b[0m             \u001b[0mself\u001b[0m\u001b[1;33m.\u001b[0m\u001b[0m_dc_id\u001b[0m\u001b[1;33m,\u001b[0m\u001b[1;33m\u001b[0m\u001b[1;33m\u001b[0m\u001b[0m\n",
      "\u001b[1;31mOperationalError\u001b[0m: database is locked"
     ]
    }
   ],
   "source": [
    "from telethon.sync import TelegramClient\n",
    "\n",
    "# Remember to use your own values from my.telegram.org!\n",
    "api_id = 920817\n",
    "api_hash = '93745cd420152d8f89a090bada2db7e7'\n",
    "\n",
    "with TelegramClient('test', api_id, api_hash) as client:\n",
    "    # Getting information about yourself\n",
    "    me = client.get_me()\n",
    "\n",
    "    # \"me\" is an User object. You can pretty-print\n",
    "    # any Telegram object with the \"stringify\" method:\n",
    "    print(me.stringify())\n",
    "\n",
    "    # When you print something, you see a representation of it.\n",
    "    # You can access all attributes of Telegram objects with\n",
    "    # the dot operator. For example, to get the username:\n",
    "    username = me.username\n",
    "    print(username)\n",
    "    print(me.phone)\n",
    "\n",
    "    # You can print all the dialogs/conversations that you are part of:\n",
    "    for dialog in client.iter_dialogs():\n",
    "        print(dialog.name, 'has ID', dialog.id)\n",
    "\n",
    "    # You can send messages to yourself...\n",
    "    client.send_message('me', 'Hello, myself!')\n",
    "    # ...to some chat ID\n",
    "    #client.send_message(-100123456, 'Hello, group!')\n",
    "    # ...to your contacts\n",
    "    #client.send_message('+1071123727', 'Hello, friend!')\n",
    "    # ...or even to any username\n",
    "    #client.send_message('TelethonChat', 'Hello, Telethon!')\n",
    "\n",
    "    # You can, of course, use markdown in your messages:\n",
    "    message = client.send_message(\n",
    "        'me',\n",
    "        'This message has **bold**, `code`, __italics__ and '\n",
    "        'a [nice website](https://lonamiwebs.github.io)!',\n",
    "        link_preview=False\n",
    "    )\n",
    "\n",
    "    # Sending a message returns the sent message object, which you can use\n",
    "    print(message.raw_text)\n",
    "\n",
    "    # You can reply to messages directly if you have a message object\n",
    "    message.reply('Cool!')\n",
    "\n",
    "    # Or send files, songs, documents, albums...\n",
    "    #client.send_file('me', '/home/me/Pictures/holidays.jpg')\n",
    "\n",
    "    # You can print the message history of any chat:\n",
    "    for message in client.iter_messages('me'):\n",
    "        print(message.id, message.text)\n",
    "\n",
    "        # You can download media from messages, too!\n",
    "        # The method will return the path where the file was saved.\n",
    "        if message.photo:\n",
    "            path = message.download_media()\n",
    "            print('File saved to', path)"
   ]
  }
 ],
 "metadata": {
  "kernelspec": {
   "display_name": "Python 3",
   "language": "python",
   "name": "python3"
  },
  "language_info": {
   "codemirror_mode": {
    "name": "ipython",
    "version": 3
   },
   "file_extension": ".py",
   "mimetype": "text/x-python",
   "name": "python",
   "nbconvert_exporter": "python",
   "pygments_lexer": "ipython3",
   "version": "3.6.8"
  }
 },
 "nbformat": 4,
 "nbformat_minor": 4
}
